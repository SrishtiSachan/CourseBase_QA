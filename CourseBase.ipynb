{
 "cells": [
  {
   "cell_type": "code",
   "execution_count": null,
   "id": "a6c5da84-5d1d-40b6-9b6e-84469d652a0a",
   "metadata": {},
   "outputs": [],
   "source": [
    "from langchain.document_loaders.csv_loader import CSVLoader\n",
    "\n",
    "loader = CSVLoader(file_path='coursebase_faqs.csv', encoding='cp1252', source_column='prompt')\n",
    "data = loader.load()"
   ]
  },
  {
   "cell_type": "code",
   "execution_count": 7,
   "id": "3d80f9b7-ae13-493c-9772-b99f5ca0f813",
   "metadata": {},
   "outputs": [
    {
     "data": {
      "application/vnd.jupyter.widget-view+json": {
       "model_id": "8fe5e73b2ab4458c8d11aee46815b15f",
       "version_major": 2,
       "version_minor": 0
      },
      "text/plain": [
       "modules.json:   0%|          | 0.00/349 [00:00<?, ?B/s]"
      ]
     },
     "metadata": {},
     "output_type": "display_data"
    },
    {
     "data": {
      "application/vnd.jupyter.widget-view+json": {
       "model_id": "605dc09b448b474e9d356301323d5e21",
       "version_major": 2,
       "version_minor": 0
      },
      "text/plain": [
       "config_sentence_transformers.json:   0%|          | 0.00/116 [00:00<?, ?B/s]"
      ]
     },
     "metadata": {},
     "output_type": "display_data"
    },
    {
     "data": {
      "application/vnd.jupyter.widget-view+json": {
       "model_id": "c1f5d23d5f5f4de191e3133bb05e1283",
       "version_major": 2,
       "version_minor": 0
      },
      "text/plain": [
       "README.md:   0%|          | 0.00/10.6k [00:00<?, ?B/s]"
      ]
     },
     "metadata": {},
     "output_type": "display_data"
    },
    {
     "data": {
      "application/vnd.jupyter.widget-view+json": {
       "model_id": "92e718c68ff5496b8963014f02266182",
       "version_major": 2,
       "version_minor": 0
      },
      "text/plain": [
       "sentence_bert_config.json:   0%|          | 0.00/53.0 [00:00<?, ?B/s]"
      ]
     },
     "metadata": {},
     "output_type": "display_data"
    },
    {
     "data": {
      "application/vnd.jupyter.widget-view+json": {
       "model_id": "20b1de19aefe4ec9a2879bf3eeb10cab",
       "version_major": 2,
       "version_minor": 0
      },
      "text/plain": [
       "config.json:   0%|          | 0.00/571 [00:00<?, ?B/s]"
      ]
     },
     "metadata": {},
     "output_type": "display_data"
    },
    {
     "data": {
      "application/vnd.jupyter.widget-view+json": {
       "model_id": "565e69db2b684cb9a07267ac5fa5951c",
       "version_major": 2,
       "version_minor": 0
      },
      "text/plain": [
       "model.safetensors:   0%|          | 0.00/438M [00:00<?, ?B/s]"
      ]
     },
     "metadata": {},
     "output_type": "display_data"
    },
    {
     "data": {
      "application/vnd.jupyter.widget-view+json": {
       "model_id": "b423da29160b471e82a1bbf8626af50a",
       "version_major": 2,
       "version_minor": 0
      },
      "text/plain": [
       "tokenizer_config.json:   0%|          | 0.00/363 [00:00<?, ?B/s]"
      ]
     },
     "metadata": {},
     "output_type": "display_data"
    },
    {
     "data": {
      "application/vnd.jupyter.widget-view+json": {
       "model_id": "67f9b7f263bc44f386be04b49d6bf2ee",
       "version_major": 2,
       "version_minor": 0
      },
      "text/plain": [
       "vocab.txt:   0%|          | 0.00/232k [00:00<?, ?B/s]"
      ]
     },
     "metadata": {},
     "output_type": "display_data"
    },
    {
     "data": {
      "application/vnd.jupyter.widget-view+json": {
       "model_id": "afa94b97a2b34adc9a461c0da7eda314",
       "version_major": 2,
       "version_minor": 0
      },
      "text/plain": [
       "tokenizer.json:   0%|          | 0.00/466k [00:00<?, ?B/s]"
      ]
     },
     "metadata": {},
     "output_type": "display_data"
    },
    {
     "data": {
      "application/vnd.jupyter.widget-view+json": {
       "model_id": "5538519a704c4daa880f985e0fa63131",
       "version_major": 2,
       "version_minor": 0
      },
      "text/plain": [
       "special_tokens_map.json:   0%|          | 0.00/239 [00:00<?, ?B/s]"
      ]
     },
     "metadata": {},
     "output_type": "display_data"
    },
    {
     "data": {
      "application/vnd.jupyter.widget-view+json": {
       "model_id": "6a6ce50adadd4e6a8d23ccc8aec9b164",
       "version_major": 2,
       "version_minor": 0
      },
      "text/plain": [
       "1_Pooling%2Fconfig.json:   0%|          | 0.00/190 [00:00<?, ?B/s]"
      ]
     },
     "metadata": {},
     "output_type": "display_data"
    }
   ],
   "source": [
    "'''\n",
    "from langchain_community.embeddings import HuggingFaceInstructEmbeddings\n",
    "\n",
    "embeddings = HuggingFaceInstructEmbeddings(\n",
    "    query_instruction=\"Represent the query for retrieval: \"\n",
    ")\n",
    "\n",
    "e = embeddings.embed_query(\"What is your refund policy\")\n",
    "'''\n",
    "\n",
    "from langchain_huggingface import HuggingFaceEmbeddings\n",
    "\n",
    "model_name = \"sentence-transformers/all-mpnet-base-v2\"\n",
    "model_kwargs = {'device': 'cpu'}\n",
    "encode_kwargs = {'normalize_embeddings': False}\n",
    "hf = HuggingFaceEmbeddings(\n",
    "    model_name=model_name,\n",
    "    model_kwargs=model_kwargs,\n",
    "    encode_kwargs=encode_kwargs\n",
    ")"
   ]
  },
  {
   "cell_type": "code",
   "execution_count": 36,
   "id": "97351803-dc3e-4810-88c5-534b2f2a7979",
   "metadata": {},
   "outputs": [],
   "source": [
    "e = hf.embed_query(\"What is your refund policy\")"
   ]
  },
  {
   "cell_type": "code",
   "execution_count": 38,
   "id": "41144f20-38f6-4062-ad16-7a1f642546d1",
   "metadata": {},
   "outputs": [
    {
     "data": {
      "text/plain": [
       "768"
      ]
     },
     "execution_count": 38,
     "metadata": {},
     "output_type": "execute_result"
    }
   ],
   "source": [
    "len(e)"
   ]
  },
  {
   "cell_type": "code",
   "execution_count": 21,
   "id": "40c6e6a3-4e2f-403c-aea8-0a0510afc6af",
   "metadata": {},
   "outputs": [],
   "source": [
    "from langchain_community.vectorstores.faiss import FAISS\n",
    "\n",
    "vectordb = FAISS.from_documents(documents=data, embedding=hf)"
   ]
  },
  {
   "cell_type": "code",
   "execution_count": 23,
   "id": "d5729452-db6c-465c-a1ae-ddf303dadb66",
   "metadata": {},
   "outputs": [
    {
     "data": {
      "text/plain": [
       "[Document(id='1cb9658e-b567-4c17-82e4-3e373b0e2db5', metadata={'source': 'Do you provide any job assistance?', 'row': 11}, page_content='prompt: Do you provide any job assistance?\\nresponse: Yes, We help you with resume and interview preparation along with that we help you in building online credibility, and based on requirements we refer candidates to potential recruiters.'),\n",
       " Document(id='d9b0b405-5143-4c89-a54b-62b3d47f6e23', metadata={'source': 'Will this course guarantee me a job?', 'row': 33}, page_content='prompt: Will this course guarantee me a job?\\nresponse: We created a much lighter version of this course on YouTube available for free (click this link) and many people gave us feedback that they were able to fetch jobs (see testimonials). Now this paid course is at least 5x better than the YouTube course which gives us ample confidence that you will be able to get a job. However, we want to be honest and do not want to make any impractical promises! Our guarantee is to prepare you for the job market by teaching the most relevant skills, knowledge & timeless principles good enough to fetch the job.'),\n",
       " Document(id='b8354841-a493-44fc-8040-1b1740dceb4b', metadata={'source': 'How can I get help if I have a doubt and need support?', 'row': 23}, page_content='prompt: How can I get help if I have a doubt and need support?\\nresponse: We have an active discord server where you can post your question and most of the time you will get an answer in a reasonable time frame.'),\n",
       " Document(id='41049b22-6cad-4397-97a9-f934503dbb3b', metadata={'source': 'Will this bootcamp guarantee me a job?', 'row': 15}, page_content='prompt: Will this bootcamp guarantee me a job?\\nresponse: The courses included in this bootcamp are done by 9000+ learners and many of them have secured a job which gives us ample confidence that you will be able to get a job. However, we want to be honest and do not want to make any impractical promises! Our guarantee is to prepare you for the job market by teaching the most relevant skills, knowledge & timeless principles good enough to fetch the job.')]"
      ]
     },
     "execution_count": 23,
     "metadata": {},
     "output_type": "execute_result"
    }
   ],
   "source": [
    "retriever = vectordb.as_retriever()\n",
    "rdocs = retriever.get_relevant_documents(\"how about job support\")\n",
    "rdocs"
   ]
  },
  {
   "cell_type": "code",
   "execution_count": 106,
   "id": "be31d9a8-3a59-4eb5-b76b-3beb35fd6be2",
   "metadata": {},
   "outputs": [],
   "source": [
    "# from langchain_deepseek import ChatDeepSeek\n",
    "# import os\n",
    "\n",
    "# DeepSeek gave error saying : Error code: 402 - {'error': {'message': 'Insufficient Balance'}} .\n",
    "'''\n",
    "os.environ['DEEPSEEK_API_KEY'] = 'sk-0aef4b3225de493caaf3db8c996a713b'\n",
    "\n",
    "llm = ChatDeepSeek(\n",
    "    model=\"deepseek-chat\",\n",
    "    temperature=0,\n",
    "    max_tokens=None,\n",
    "    timeout=None,\n",
    "    max_retries=2\n",
    ")\n",
    "'''"
   ]
  },
  {
   "cell_type": "code",
   "execution_count": 112,
   "id": "540b34d9-ce65-4ffc-8f07-451641c8550a",
   "metadata": {},
   "outputs": [
    {
     "data": {
      "text/plain": [
       "AIMessage(content=\"I don't know the specific details of your course or industry, but many courses offer job placement assistance or career services to help graduates find employment. It's also common for employers to look for candidates with relevant skills and experience gained through coursework. You can check with your course provider or career services department for more information on job prospects after completing your course.\", additional_kwargs={}, response_metadata={'model': 'llama3.2', 'created_at': '2025-02-27T08:22:28.7489Z', 'done': True, 'done_reason': 'stop', 'total_duration': 2836208708, 'load_duration': 30250375, 'prompt_eval_count': 83, 'prompt_eval_duration': 877000000, 'eval_count': 71, 'eval_duration': 1926000000, 'message': Message(role='assistant', content='', images=None, tool_calls=None)}, id='run-c335b52a-ba8b-4a92-a7f5-39ebbb72e53d-0', usage_metadata={'input_tokens': 83, 'output_tokens': 71, 'total_tokens': 154})"
      ]
     },
     "execution_count": 112,
     "metadata": {},
     "output_type": "execute_result"
    }
   ],
   "source": [
    "from langchain_ollama import ChatOllama\n",
    "from langchain_core.messages import AIMessage\n",
    "\n",
    "llm = ChatOllama(\n",
    "    model=\"llama3.2\",\n",
    "    temperature=0,\n",
    ")\n",
    "\n"
   ]
  },
  {
   "cell_type": "code",
   "execution_count": 114,
   "id": "a9c74dd5-b351-48ec-9e0e-e59bcd5b82bb",
   "metadata": {},
   "outputs": [
    {
     "name": "stdout",
     "output_type": "stream",
     "text": [
      "Our guarantee is to prepare you for the job market by teaching the most relevant skills, knowledge & timeless principles good enough to fetch the job. However, we want to be honest and do not want to make any impractical promises! We can't guarantee a specific job, but we're confident that our course will equip you with the necessary skills to increase your chances of getting hired.\n"
     ]
    }
   ],
   "source": [
    "from langchain.chains.combine_documents import create_stuff_documents_chain\n",
    "from langchain.chains import create_retrieval_chain\n",
    "from langchain_core.prompts import ChatPromptTemplate\n",
    "\n",
    "retriever = vectordb.as_retriever()\n",
    "system_prompt = (\n",
    "    \"You are an assistant for question-answering tasks. \"\n",
    "    \"Use the following pieces of retrieved context to answer \"\n",
    "    \"the question. If you don't know the answer, say that you \"\n",
    "    \"don't know. Use three sentences maximum and keep the \"\n",
    "    \"answer concise.\"\n",
    "    \"\\n\\n\"\n",
    "    \"{context}\"\n",
    ")\n",
    "\n",
    "prompt = ChatPromptTemplate.from_messages(\n",
    "    [\n",
    "        (\"system\", system_prompt),\n",
    "        (\"human\", \"{input}\"),\n",
    "    ]\n",
    ")\n",
    "\n",
    "\n",
    "question_answer_chain = create_stuff_documents_chain(llm, prompt)\n",
    "rag_chain = create_retrieval_chain(retriever, question_answer_chain)\n",
    "\n",
    "response = rag_chain.invoke({\"input\": \"can i get a job after this course ?\"})\n",
    "print(response[\"answer\"])"
   ]
  },
  {
   "cell_type": "code",
   "execution_count": 116,
   "id": "e1a6bd45-c228-4a52-bd50-e530174a5b02",
   "metadata": {},
   "outputs": [
    {
     "data": {
      "text/plain": [
       "{'input': 'Do you guys offer internship and also do you offer EMI payments?',\n",
       " 'context': [Document(id='3744f404-13cb-4df3-a114-34b7e9973826', metadata={'source': 'Do you provide any virtual internship?', 'row': 14}, page_content='prompt: Do you provide any virtual internship?\\nresponse: Yes'),\n",
       "  Document(id='e2190ca7-e952-4614-b4b0-2596a69f6520', metadata={'source': 'Do we have an EMI option?', 'row': 13}, page_content='prompt: Do we have an EMI option?\\nresponse: No'),\n",
       "  Document(id='1cb9658e-b567-4c17-82e4-3e373b0e2db5', metadata={'source': 'Do you provide any job assistance?', 'row': 11}, page_content='prompt: Do you provide any job assistance?\\nresponse: Yes, We help you with resume and interview preparation along with that we help you in building online credibility, and based on requirements we refer candidates to potential recruiters.'),\n",
       "  Document(id='d9b0b405-5143-4c89-a54b-62b3d47f6e23', metadata={'source': 'Will this course guarantee me a job?', 'row': 33}, page_content='prompt: Will this course guarantee me a job?\\nresponse: We created a much lighter version of this course on YouTube available for free (click this link) and many people gave us feedback that they were able to fetch jobs (see testimonials). Now this paid course is at least 5x better than the YouTube course which gives us ample confidence that you will be able to get a job. However, we want to be honest and do not want to make any impractical promises! Our guarantee is to prepare you for the job market by teaching the most relevant skills, knowledge & timeless principles good enough to fetch the job.')],\n",
       " 'answer': \"We don't have an EMI option, but we do provide virtual internships as part of our job assistance services.\"}"
      ]
     },
     "execution_count": 116,
     "metadata": {},
     "output_type": "execute_result"
    }
   ],
   "source": [
    "response2 = rag_chain.invoke({\"input\": \"Do you guys offer internship and also do you offer EMI payments?\"})\n",
    "response2"
   ]
  },
  {
   "cell_type": "code",
   "execution_count": 118,
   "id": "50eee56c-e3e8-48f1-93a3-1f4f53bb34e7",
   "metadata": {},
   "outputs": [
    {
     "data": {
      "text/plain": [
       "{'input': 'do you have javascript course',\n",
       " 'context': [Document(id='4b1b45c5-8cfb-42e8-8e8b-57c398bfbb9d', metadata={'source': 'I have never done programming and belong to a non-technical background. Can I take this course?', 'row': 24}, page_content='prompt: I have never done programming and belong to a non-technical background. Can I take this course?\\nresponse: Yes, this is the perfect course for anyone who has never done coding and wants to build a career in the IT/Data Analytics industry or just wants to perform better in their current job or business using data.'),\n",
       "  Document(id='79520c3e-40ed-4f60-9703-5eec53cb4ccf', metadata={'source': 'I’m not sure if this course is good enough for me to invest some money. What can I do?', 'row': 20}, page_content='prompt: I’m not sure if this course is good enough for me to invest some money. What can I do?\\nresponse: Don’t worry. Many videos in this course are free so watch them to get an idea of the quality of teaching. Dhaval Patel (the course instructor) runs a popular data science YouTube channel called Codebasics. On that, you can watch his videos and read comments to get an idea of his teaching style'),\n",
       "  Document(id='029773c1-5c83-49a5-84ea-b61e58823244', metadata={'source': 'I have zero knowledge of Excel and belong to a non-technical\\n background. Can I take this course?', 'row': 16}, page_content='prompt: I have zero knowledge of Excel and belong to a non-technical\\n background. Can I take this course?\\nresponse: Yes, this is the perfect course for anyone who has never worked on excel and wants to build a career in the IT/Data Analytics industry or just wants to perform better in their current job or business using data.'),\n",
       "  Document(id='526407a8-16c1-4da1-b1fe-767646148da5', metadata={'source': 'What are the things I need to know before starting this course?', 'row': 17}, page_content='prompt: What are the things I need to know before starting this course?\\nresponse: This course is for absolute beginners hence you do not need any specific skills other than basic familiarity with computers')],\n",
       " 'answer': \"I don't have information about a JavaScript course specifically. However, the previous context mentions that the course covers data analytics and Excel, but it doesn't explicitly mention JavaScript. If you're interested in learning JavaScript, I can try to help you find resources or courses on JavaScript, though.\"}"
      ]
     },
     "execution_count": 118,
     "metadata": {},
     "output_type": "execute_result"
    }
   ],
   "source": [
    "response3 = rag_chain.invoke({\"input\":\"do you have javascript course\"})\n",
    "response3"
   ]
  },
  {
   "cell_type": "code",
   "execution_count": 120,
   "id": "6a412516-561c-4c4b-99c7-b7df8c86bda6",
   "metadata": {},
   "outputs": [
    {
     "data": {
      "text/plain": [
       "{'input': 'do you have course on home cooking',\n",
       " 'context': [Document(id='117b1be8-3185-4e07-933f-8e9399c8d047', metadata={'source': '\\nI don’t have a laptop, can I take this course?', 'row': 25}, page_content='prompt: I don’t have a laptop, can I take this course?\\nresponse: We recommend learning by doing and therefore you need to have a laptop or a PC (at least 4 GB ram).'),\n",
       "  Document(id='d9b0b405-5143-4c89-a54b-62b3d47f6e23', metadata={'source': 'Will this course guarantee me a job?', 'row': 33}, page_content='prompt: Will this course guarantee me a job?\\nresponse: We created a much lighter version of this course on YouTube available for free (click this link) and many people gave us feedback that they were able to fetch jobs (see testimonials). Now this paid course is at least 5x better than the YouTube course which gives us ample confidence that you will be able to get a job. However, we want to be honest and do not want to make any impractical promises! Our guarantee is to prepare you for the job market by teaching the most relevant skills, knowledge & timeless principles good enough to fetch the job.'),\n",
       "  Document(id='65a3b5c7-8d33-4538-93f8-d32eb05ad5fb', metadata={'source': 'Once purchased, is this course available for lifetime access?', 'row': 22}, page_content='prompt: Once purchased, is this course available for lifetime access?\\nresponse: Yes'),\n",
       "  Document(id='1cac3566-aedc-43ed-be31-0c33a80e3128', metadata={'source': 'I use tableau, can I take this course?', 'row': 28}, page_content='prompt: I use tableau, can I take this course?\\nresponse: Yes, you will still benefit from the concepts outside the tools that are discussed in this course such as business context, problem solving, project management tools, etc.')],\n",
       " 'answer': \"I don't know if there is a specific course on home cooking mentioned in the provided context. However, I can suggest that we may have some general information about courses or resources related to cooking. Would you like me to search for more information?\"}"
      ]
     },
     "execution_count": 120,
     "metadata": {},
     "output_type": "execute_result"
    }
   ],
   "source": [
    "response4 = rag_chain.invoke({\"input\":\"do you have course on home cooking\"})\n",
    "response4"
   ]
  },
  {
   "cell_type": "code",
   "execution_count": null,
   "id": "29c087b1-702b-4b58-9f01-1d22180e1648",
   "metadata": {},
   "outputs": [],
   "source": [
    "# The LLM we are using is not hallucinating. If it does not have info about a course it says \"I don't know\".\n",
    "# This is happening because we are using Prompt templates which specifies if you don't know the answer, say don't know instead of hallucinating.\n"
   ]
  }
 ],
 "metadata": {
  "kernelspec": {
   "display_name": "Python 3 (ipykernel)",
   "language": "python",
   "name": "python3"
  },
  "language_info": {
   "codemirror_mode": {
    "name": "ipython",
    "version": 3
   },
   "file_extension": ".py",
   "mimetype": "text/x-python",
   "name": "python",
   "nbconvert_exporter": "python",
   "pygments_lexer": "ipython3",
   "version": "3.13.1"
  }
 },
 "nbformat": 4,
 "nbformat_minor": 5
}
